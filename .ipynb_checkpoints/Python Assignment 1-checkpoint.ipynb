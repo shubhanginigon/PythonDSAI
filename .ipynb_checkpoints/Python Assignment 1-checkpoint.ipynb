{
 "cells": [
  {
   "cell_type": "code",
   "execution_count": 2,
   "metadata": {},
   "outputs": [
    {
     "name": "stdout",
     "output_type": "stream",
     "text": [
      "Input is a palindrome.\n"
     ]
    }
   ],
   "source": [
    "def is_palindrome(input):\n",
    "    \"\"\"\n",
    "    is_palindrome compares the reverse string with the original string     \n",
    "    \n",
    "    \"\"\"\n",
    "    if(input[::-1]==input):\n",
    "        print(\"Input is a palindrome.\")\n",
    "    else:\n",
    "        print(\"Input is not a palindrome.\")\n",
    "        \n",
    "is_palindrome(\"level\")"
   ]
  },
  {
   "cell_type": "code",
   "execution_count": 3,
   "metadata": {},
   "outputs": [
    {
     "name": "stdout",
     "output_type": "stream",
     "text": [
      "Input is not a palindrome.\n"
     ]
    }
   ],
   "source": [
    "is_palindrome(\"input\")"
   ]
  },
  {
   "cell_type": "code",
   "execution_count": 4,
   "metadata": {},
   "outputs": [
    {
     "name": "stdout",
     "output_type": "stream",
     "text": [
      "3\n",
      "2\n",
      "1\n",
      "Done!\n"
     ]
    }
   ],
   "source": [
    "import time\n",
    "def countdown(start):\n",
    "    \"\"\"\n",
    "    countdown reverse counts from the number entered as an argument\n",
    "    \"\"\"\n",
    "    a=range(start)\n",
    "    for count in reversed(a):\n",
    "        time.sleep(1)\n",
    "        if(a[count]==0):\n",
    "            print(\"Done!\")\n",
    "        else:    \n",
    "            print(count)\n",
    "\n",
    "countdown(4)"
   ]
  },
  {
   "cell_type": "code",
   "execution_count": null,
   "metadata": {},
   "outputs": [],
   "source": []
  }
 ],
 "metadata": {
  "kernelspec": {
   "display_name": "pythonDSAI",
   "language": "python",
   "name": "pythondsai"
  },
  "language_info": {
   "codemirror_mode": {
    "name": "ipython",
    "version": 3
   },
   "file_extension": ".py",
   "mimetype": "text/x-python",
   "name": "python",
   "nbconvert_exporter": "python",
   "pygments_lexer": "ipython3",
   "version": "3.8.5"
  }
 },
 "nbformat": 4,
 "nbformat_minor": 4
}
