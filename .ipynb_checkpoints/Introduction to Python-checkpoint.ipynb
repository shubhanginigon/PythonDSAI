{
 "cells": [
  {
   "cell_type": "code",
   "execution_count": 52,
   "metadata": {},
   "outputs": [
    {
     "ename": "NameError",
     "evalue": "name 'j' is not defined",
     "output_type": "error",
     "traceback": [
      "\u001b[1;31m---------------------------------------------------------------------------\u001b[0m",
      "\u001b[1;31mNameError\u001b[0m                                 Traceback (most recent call last)",
      "\u001b[1;32m<ipython-input-52-4a4c2a70645d>\u001b[0m in \u001b[0;36m<module>\u001b[1;34m\u001b[0m\n\u001b[0;32m      5\u001b[0m \u001b[1;31m# float/int + str = ? error\u001b[0m\u001b[1;33m\u001b[0m\u001b[1;33m\u001b[0m\u001b[1;33m\u001b[0m\u001b[0m\n\u001b[0;32m      6\u001b[0m \u001b[1;31m# str + str=? strstr\u001b[0m\u001b[1;33m\u001b[0m\u001b[1;33m\u001b[0m\u001b[1;33m\u001b[0m\u001b[0m\n\u001b[1;32m----> 7\u001b[1;33m \u001b[0mhelp\u001b[0m\u001b[1;33m(\u001b[0m\u001b[0mj\u001b[0m\u001b[1;33m)\u001b[0m\u001b[1;33m\u001b[0m\u001b[1;33m\u001b[0m\u001b[0m\n\u001b[0m",
      "\u001b[1;31mNameError\u001b[0m: name 'j' is not defined"
     ]
    }
   ],
   "source": [
    "# float + int =? float\n",
    "# float + float =? float\n",
    "# bool + float =? float\n",
    "# bool + int = ? int\n",
    "# float/int + str = ? error   \n",
    "# str + str=? strstr\n",
    "help(j)"
   ]
  },
  {
   "cell_type": "code",
   "execution_count": null,
   "metadata": {},
   "outputs": [],
   "source": []
  },
  {
   "cell_type": "markdown",
   "metadata": {},
   "source": [
    "###Variable convention\n",
    "#define any local variables\n",
    "#use small letter\n",
    "local=1\n",
    "local_net=1\n",
    "localNetwork=1\n",
    "PI=3.14 #all the caps for constants\n",
    "MyClass #caps first letters all words\n",
    "\n",
    "input_ #avoid conflict with python sym values\n",
    "_input #inform that this variable is only for intenal use\n",
    "__input__ #functions created by python which can be overridden but with obeying  #ex: __init__ __str__, __main__\n"
   ]
  },
  {
   "cell_type": "code",
   "execution_count": 13,
   "metadata": {},
   "outputs": [
    {
     "data": {
      "text/plain": [
       "8"
      ]
     },
     "execution_count": 13,
     "metadata": {},
     "output_type": "execute_result"
    }
   ],
   "source": [
    "#&& and bitwise\n",
    "# list and strings\n",
    "some_string = \"hello\"\n",
    "some_string[0]\n",
    "#[start:stop:step] #not include stop\n",
    "some_string[0:2]\n",
    "some_string[0::2] #skip one\n",
    "\n",
    "some_string[:] #everything\n",
    "some_string[-2:] #pick str from back \n",
    "some_string[::-1] #reverse the strings\n",
    " \n",
    "len(some_string)\n",
    "\n",
    "list1=[1,2,3,4] #list of num\n",
    "list2=[\"chaky\", \"John\", \"Jane\"] #list of str\n",
    "list3=[\"Chaky\", 2,3.14] \n",
    "type(list3)\n",
    "\n",
    "list2[0][2] # prints a coz first element second letter from the list\n",
    "list4 = [1,[2,3], [4,5], [[6,7],8]]\n",
    "list4[-1][-1]"
   ]
  },
  {
   "cell_type": "code",
   "execution_count": 17,
   "metadata": {},
   "outputs": [
    {
     "name": "stdout",
     "output_type": "stream",
     "text": [
      "0\n",
      "1\n",
      "2\n",
      "3\n",
      "4\n"
     ]
    }
   ],
   "source": [
    "a=range(5)\n",
    "type(a)\n",
    "#range is the generator\n",
    "list(a)\n",
    "\n",
    "for i in a:\n",
    "    print(i)"
   ]
  },
  {
   "cell_type": "code",
   "execution_count": 19,
   "metadata": {},
   "outputs": [
    {
     "name": "stdout",
     "output_type": "stream",
     "text": [
      "0 0\n",
      "1 1\n",
      "2 2\n",
      "3 3\n",
      "4 5\n"
     ]
    }
   ],
   "source": [
    "a= [0,1,2,3,5]\n",
    "for ix, x in enumerate(a):\n",
    "    print(ix,x)"
   ]
  },
  {
   "cell_type": "code",
   "execution_count": 22,
   "metadata": {},
   "outputs": [
    {
     "name": "stdout",
     "output_type": "stream",
     "text": [
      "0 0\n",
      "1 1\n",
      "2 2\n",
      "3 3\n",
      "4 5\n"
     ]
    }
   ],
   "source": [
    "for i in range(len(a)):\n",
    "    print(i,a[i])"
   ]
  },
  {
   "cell_type": "code",
   "execution_count": 27,
   "metadata": {},
   "outputs": [
    {
     "data": {
      "text/plain": [
       "[5, 9, 6, 23]"
      ]
     },
     "execution_count": 27,
     "metadata": {},
     "output_type": "execute_result"
    }
   ],
   "source": [
    "a = [0,9,6,23]\n",
    "a[1]=3\n",
    "a\n",
    "a[0:2] =5,9\n",
    "a"
   ]
  },
  {
   "cell_type": "code",
   "execution_count": 30,
   "metadata": {},
   "outputs": [
    {
     "data": {
      "text/plain": [
       "[5]"
      ]
     },
     "execution_count": 30,
     "metadata": {},
     "output_type": "execute_result"
    }
   ],
   "source": [
    "a.pop(1)\n",
    "a"
   ]
  },
  {
   "cell_type": "code",
   "execution_count": 35,
   "metadata": {},
   "outputs": [
    {
     "data": {
      "text/plain": [
       "[3, 19, 23]"
      ]
     },
     "execution_count": 35,
     "metadata": {},
     "output_type": "execute_result"
    }
   ],
   "source": [
    "#sorting\n",
    "a= [3,23,19]\n",
    "a.sort()\n",
    "a\n"
   ]
  },
  {
   "cell_type": "code",
   "execution_count": 37,
   "metadata": {},
   "outputs": [
    {
     "data": {
      "text/plain": [
       "[3, 19, 23]"
      ]
     },
     "execution_count": 37,
     "metadata": {},
     "output_type": "execute_result"
    }
   ],
   "source": [
    "a.reverse()\n",
    "a"
   ]
  },
  {
   "cell_type": "code",
   "execution_count": 39,
   "metadata": {},
   "outputs": [
    {
     "name": "stdout",
     "output_type": "stream",
     "text": [
      "2\n",
      "4\n",
      "65\n"
     ]
    }
   ],
   "source": [
    "a=[4,65,2]\n",
    "for num in sorted(a):\n",
    "    print(num)"
   ]
  },
  {
   "cell_type": "code",
   "execution_count": 42,
   "metadata": {},
   "outputs": [
    {
     "name": "stdout",
     "output_type": "stream",
     "text": [
      "65\n",
      "4\n",
      "2\n"
     ]
    }
   ],
   "source": [
    "for num in reversed(sorted(a)):\n",
    "    print (num)"
   ]
  },
  {
   "cell_type": "code",
   "execution_count": 44,
   "metadata": {},
   "outputs": [
    {
     "data": {
      "text/plain": [
       "[3, 6, 9, 7, 0, 2, 8, 1, 5, 4]"
      ]
     },
     "execution_count": 44,
     "metadata": {},
     "output_type": "execute_result"
    }
   ],
   "source": [
    "#random \n",
    "a= list(range(10)) #0...9\n",
    "\n",
    "import random\n",
    "\n",
    "random.shuffle(a) #in-place\n",
    "a"
   ]
  },
  {
   "cell_type": "code",
   "execution_count": 46,
   "metadata": {},
   "outputs": [
    {
     "data": {
      "text/plain": [
       "[7, 0, 2, 6, 5]"
      ]
     },
     "execution_count": 46,
     "metadata": {},
     "output_type": "execute_result"
    }
   ],
   "source": [
    "random.sample(a,5) #takes 5 random numbers from a"
   ]
  },
  {
   "cell_type": "code",
   "execution_count": 48,
   "metadata": {},
   "outputs": [
    {
     "data": {
      "text/plain": [
       "4"
      ]
     },
     "execution_count": 48,
     "metadata": {},
     "output_type": "execute_result"
    }
   ],
   "source": [
    "random.choice(a) #takes one number out of the list "
   ]
  },
  {
   "cell_type": "code",
   "execution_count": 53,
   "metadata": {},
   "outputs": [
    {
     "name": "stdout",
     "output_type": "stream",
     "text": [
      "permutations:  [(1, 2), (1, 3), (2, 1), (2, 3), (3, 1), (3, 2)]\n",
      "Combinations:  [(1, 2), (1, 3), (2, 3)]\n"
     ]
    }
   ],
   "source": [
    "a= [1,2,3]\n",
    "from itertools import permutations, combinations\n",
    "#permutation\n",
    "print(\"permutations: \", list(permutations(a,2)))\n",
    "#combinations\n",
    "print(\"Combinations: \", list(combinations(a,2)))"
   ]
  },
  {
   "cell_type": "code",
   "execution_count": 54,
   "metadata": {},
   "outputs": [
    {
     "data": {
      "text/plain": [
       "[1, 2, 3]"
      ]
     },
     "execution_count": 54,
     "metadata": {},
     "output_type": "execute_result"
    }
   ],
   "source": [
    "a"
   ]
  },
  {
   "cell_type": "code",
   "execution_count": 56,
   "metadata": {},
   "outputs": [
    {
     "name": "stdout",
     "output_type": "stream",
     "text": [
      "Chaky 18\n",
      "John 25\n",
      "Jane 35\n"
     ]
    }
   ],
   "source": [
    "#zip \n",
    "\n",
    "names=[\"Chaky\", \"John\", \"Jane\"]\n",
    "age= [18,25,35]\n",
    "\n",
    "for i in range(len(names)):\n",
    "    print(names[i], age[i])"
   ]
  },
  {
   "cell_type": "code",
   "execution_count": 58,
   "metadata": {},
   "outputs": [
    {
     "data": {
      "text/plain": [
       "[('Chaky', 18), ('John', 25), ('Jane', 35)]"
      ]
     },
     "execution_count": 58,
     "metadata": {},
     "output_type": "execute_result"
    }
   ],
   "source": [
    "list(zip(names, age))"
   ]
  },
  {
   "cell_type": "code",
   "execution_count": 60,
   "metadata": {},
   "outputs": [
    {
     "name": "stdout",
     "output_type": "stream",
     "text": [
      "Chaky 18\n",
      "John 25\n",
      "Jane 35\n"
     ]
    }
   ],
   "source": [
    "for name, ag in list(zip(names, age)):\n",
    "    print(name,ag)"
   ]
  },
  {
   "cell_type": "code",
   "execution_count": 62,
   "metadata": {},
   "outputs": [
    {
     "name": "stdout",
     "output_type": "stream",
     "text": [
      "{1, 2, 3}\n",
      "{2, 5, 6}\n"
     ]
    }
   ],
   "source": [
    "#set\n",
    "a= [1,2,3,2]\n",
    "b=[2,5,6,6]\n",
    "#set must have no duplicate values\n",
    "set_a = set(a)#not in-plce\n",
    "set_b= set(b)\n",
    "\n",
    "print(set_a)\n",
    "print(set_b)"
   ]
  },
  {
   "cell_type": "code",
   "execution_count": 63,
   "metadata": {},
   "outputs": [
    {
     "name": "stdout",
     "output_type": "stream",
     "text": [
      "2\n"
     ]
    }
   ],
   "source": [
    "#intersection\n",
    "print(list(set_a.intersection(set_b))[0])"
   ]
  },
  {
   "cell_type": "code",
   "execution_count": 65,
   "metadata": {},
   "outputs": [
    {
     "name": "stdout",
     "output_type": "stream",
     "text": [
      "a-b {1, 3}\n",
      "b-a {5, 6}\n"
     ]
    }
   ],
   "source": [
    "#difference\n",
    "print(\"a-b\", set_a.difference(set_b))\n",
    "print(\"b-a\", set_b.difference(set_a))"
   ]
  },
  {
   "cell_type": "code",
   "execution_count": 66,
   "metadata": {},
   "outputs": [
    {
     "name": "stdout",
     "output_type": "stream",
     "text": [
      "{1, 3, 5, 6}\n",
      "{1, 3, 5, 6}\n"
     ]
    }
   ],
   "source": [
    "#symmetric differences\n",
    "#a-b + b-a\n",
    "print(set_a.symmetric_difference(set_b))\n",
    "print(set_b.symmetric_difference(set_a))"
   ]
  },
  {
   "cell_type": "code",
   "execution_count": 68,
   "metadata": {},
   "outputs": [
    {
     "name": "stdout",
     "output_type": "stream",
     "text": [
      "{1, 2, 3, 5, 6}\n"
     ]
    }
   ],
   "source": [
    "#union\n",
    "print(set_a.union(set_b))"
   ]
  },
  {
   "cell_type": "code",
   "execution_count": 72,
   "metadata": {},
   "outputs": [
    {
     "data": {
      "text/plain": [
       "[[[8, 9], 1], [[4, 5], 2], [[10, 12], 2]]"
      ]
     },
     "execution_count": 72,
     "metadata": {},
     "output_type": "execute_result"
    }
   ],
   "source": [
    "eeg1=[8,9]\n",
    "ev1=1\n",
    "eeg2=[4,5]\n",
    "ev2=2\n",
    "eeg3=[10,12]\n",
    "ev3=2\n",
    "\n",
    "eeg= []\n",
    "eeg.append([eeg1,ev1])\n",
    "eeg.append([eeg2,ev2])\n",
    "eeg.append([eeg3,ev3])\n",
    "eeg"
   ]
  },
  {
   "cell_type": "code",
   "execution_count": 75,
   "metadata": {},
   "outputs": [
    {
     "name": "stdout",
     "output_type": "stream",
     "text": [
      "[8, 9]\n",
      "1\n",
      "[4, 5]\n",
      "2\n",
      "[10, 12]\n",
      "2\n"
     ]
    }
   ],
   "source": [
    "for eacheeg in eeg:\n",
    "    print(eacheeg[0]) #print just the eeg signals\n",
    "    print(eacheeg[1]) #print the eeg event"
   ]
  },
  {
   "cell_type": "code",
   "execution_count": 81,
   "metadata": {},
   "outputs": [
    {
     "ename": "TypeError",
     "evalue": "'int' object is not subscriptable",
     "output_type": "error",
     "traceback": [
      "\u001b[1;31m---------------------------------------------------------------------------\u001b[0m",
      "\u001b[1;31mTypeError\u001b[0m                                 Traceback (most recent call last)",
      "\u001b[1;32m<ipython-input-81-19bb10c363b2>\u001b[0m in \u001b[0;36m<module>\u001b[1;34m\u001b[0m\n\u001b[0;32m      1\u001b[0m \u001b[1;32mfor\u001b[0m \u001b[0meacheeg\u001b[0m \u001b[1;32min\u001b[0m \u001b[0mrange\u001b[0m\u001b[1;33m(\u001b[0m\u001b[0mlen\u001b[0m\u001b[1;33m(\u001b[0m\u001b[0meeg\u001b[0m\u001b[1;33m)\u001b[0m\u001b[1;33m)\u001b[0m\u001b[1;33m:\u001b[0m\u001b[1;33m\u001b[0m\u001b[1;33m\u001b[0m\u001b[0m\n\u001b[1;32m----> 2\u001b[1;33m     \u001b[1;32mif\u001b[0m \u001b[0meacheeg\u001b[0m\u001b[1;33m[\u001b[0m\u001b[1;36m1\u001b[0m\u001b[1;33m]\u001b[0m\u001b[1;33m==\u001b[0m\u001b[1;36m2\u001b[0m\u001b[1;33m:\u001b[0m\u001b[1;33m\u001b[0m\u001b[1;33m\u001b[0m\u001b[0m\n\u001b[0m\u001b[0;32m      3\u001b[0m         \u001b[0mprint\u001b[0m\u001b[1;33m(\u001b[0m\u001b[0meacheeg\u001b[0m\u001b[1;33m[\u001b[0m\u001b[1;36m0\u001b[0m\u001b[1;33m]\u001b[0m\u001b[1;33m)\u001b[0m\u001b[1;33m\u001b[0m\u001b[1;33m\u001b[0m\u001b[0m\n",
      "\u001b[1;31mTypeError\u001b[0m: 'int' object is not subscriptable"
     ]
    }
   ],
   "source": [
    "for eacheeg in range(len(eeg)):\n",
    "    if eacheeg[1]==2:\n",
    "        print(eacheeg[0])"
   ]
  },
  {
   "cell_type": "code",
   "execution_count": 82,
   "metadata": {},
   "outputs": [
    {
     "name": "stdout",
     "output_type": "stream",
     "text": [
      "[2, 3, 4, 5, 6]\n"
     ]
    }
   ],
   "source": [
    "a= [1,2,3,4,5]\n",
    "\n",
    "output = [num +1 for num in a] #list comprehension is imp python\n",
    "print(output) "
   ]
  },
  {
   "cell_type": "code",
   "execution_count": 84,
   "metadata": {},
   "outputs": [
    {
     "name": "stdout",
     "output_type": "stream",
     "text": [
      "<class 'dict'>\n"
     ]
    }
   ],
   "source": [
    "### dictionary\n",
    "\n",
    "#list []\n",
    "#tuple ()\n",
    "#dictionary {}\n",
    "\n",
    "some_dict = {\"Chaky\":1, \"Apple\" :2, \"Orange\":3}\n",
    "print(type(some_dict))"
   ]
  },
  {
   "cell_type": "code",
   "execution_count": 85,
   "metadata": {},
   "outputs": [
    {
     "data": {
      "text/plain": [
       "1"
      ]
     },
     "execution_count": 85,
     "metadata": {},
     "output_type": "execute_result"
    }
   ],
   "source": [
    "#value obtain by key always\n",
    "some_dict[\"Chaky\"]"
   ]
  },
  {
   "cell_type": "code",
   "execution_count": 86,
   "metadata": {},
   "outputs": [
    {
     "data": {
      "text/plain": [
       "{'Chaky': 1, 'Apple': 2, 'Orange': 3, 'Durian': 10}"
      ]
     },
     "execution_count": 86,
     "metadata": {},
     "output_type": "execute_result"
    }
   ],
   "source": [
    "#add dict\n",
    "some_dict[\"Durian\"] = 10\n",
    "some_dict"
   ]
  },
  {
   "cell_type": "code",
   "execution_count": 88,
   "metadata": {},
   "outputs": [
    {
     "name": "stdout",
     "output_type": "stream",
     "text": [
      "Chaky 1\n",
      "Apple 2\n",
      "Orange 3\n",
      "Durian 10\n"
     ]
    }
   ],
   "source": [
    "#dictinary have no sense of index\n",
    "for key, value in some_dict.items():\n",
    "    print(key,value)"
   ]
  },
  {
   "cell_type": "code",
   "execution_count": 90,
   "metadata": {},
   "outputs": [
    {
     "data": {
      "text/plain": [
       "9"
      ]
     },
     "execution_count": 90,
     "metadata": {},
     "output_type": "execute_result"
    }
   ],
   "source": [
    "### functions\n",
    "# fn is about grouping things\n",
    "\n",
    "#DRY: Don't Repeat Yourself\n",
    "\n",
    "def square(x):\n",
    "    return x**2\n",
    "\n",
    "b = square(3)\n",
    "c = square(3)\n",
    "d = square(3)\n",
    "\n",
    "def cube(x):\n",
    "    return x**3\n",
    "\n",
    "def hello(x):\n",
    "    print(x)\n",
    "b"
   ]
  },
  {
   "cell_type": "code",
   "execution_count": 91,
   "metadata": {},
   "outputs": [
    {
     "data": {
      "text/plain": [
       "'\\nThis is the descp for the func when help(fn) is called\\n'"
      ]
     },
     "execution_count": 91,
     "metadata": {},
     "output_type": "execute_result"
    }
   ],
   "source": [
    "### function desc\n",
    "\"\"\"\n",
    "This is the descp for the func when help(fn) is called\n",
    "\"\"\""
   ]
  },
  {
   "cell_type": "code",
   "execution_count": 92,
   "metadata": {},
   "outputs": [
    {
     "name": "stdout",
     "output_type": "stream",
     "text": [
      "7\n"
     ]
    }
   ],
   "source": [
    "### my fn\n",
    "def something(x, y=2):\n",
    "    print(x+y)\n",
    "    \n",
    "something(3,4)"
   ]
  },
  {
   "cell_type": "code",
   "execution_count": 93,
   "metadata": {},
   "outputs": [
    {
     "name": "stdout",
     "output_type": "stream",
     "text": [
      "14\n"
     ]
    }
   ],
   "source": [
    "something (y=2, x=12) # fn maps the variables from the name if specified like this without order"
   ]
  },
  {
   "cell_type": "code",
   "execution_count": 94,
   "metadata": {},
   "outputs": [
    {
     "name": "stdout",
     "output_type": "stream",
     "text": [
      "20\n",
      "1\n",
      "2\n",
      "3\n",
      "4\n",
      "6\n"
     ]
    }
   ],
   "source": [
    "def some(x,*args,y=2):\n",
    "    print(x+y)\n",
    "    for arg in args:\n",
    "        print(arg)\n",
    "        \n",
    "some(10,1,2,3,4,6,y=10)"
   ]
  },
  {
   "cell_type": "code",
   "execution_count": 99,
   "metadata": {},
   "outputs": [
    {
     "ename": "SyntaxError",
     "evalue": "invalid syntax (<ipython-input-99-929173afe059>, line 6)",
     "output_type": "error",
     "traceback": [
      "\u001b[1;36m  File \u001b[1;32m\"<ipython-input-99-929173afe059>\"\u001b[1;36m, line \u001b[1;32m6\u001b[0m\n\u001b[1;33m    some(10,1,2,3,4,6,y=10, \"CHaky\":12)\u001b[0m\n\u001b[1;37m                                   ^\u001b[0m\n\u001b[1;31mSyntaxError\u001b[0m\u001b[1;31m:\u001b[0m invalid syntax\n"
     ]
    }
   ],
   "source": [
    "def some(x,*args,y=2, **kwargs): # * means tupples and ** dicts\n",
    "    print(x+y)\n",
    "    for arg in args:\n",
    "        print(arg)\n",
    "        \n",
    "some(10,1,2,3,4,6,y=10, \"CHaky\":12)"
   ]
  },
  {
   "cell_type": "code",
   "execution_count": 100,
   "metadata": {},
   "outputs": [],
   "source": [
    "#Classes\n",
    "\n",
    "#class is a way to represent thing as an entity\n",
    "#As an entity, things becomes more maintainable\n",
    "#ENtity have fns and attributes\n",
    "\n",
    "class Human: \n",
    "    def __init__(self, h, w):\n",
    "        self.h = h\n",
    "        self.w = w\n",
    "    def walk(self):\n",
    "        print(\"This human actually walks\")\n",
    "        \n",
    "    def sleep(self):\n",
    "        print(\"This human wants to sleep\")\n",
    "    def increaseh(self,how_much):\n",
    "        self.h +=how_much\n",
    "    \n",
    "    #representation of the class in string format\n",
    "    def __str__(self):\n",
    "        return(f\"This human height is {self.h}\")"
   ]
  },
  {
   "cell_type": "code",
   "execution_count": 103,
   "metadata": {},
   "outputs": [
    {
     "data": {
      "text/plain": [
       "174"
      ]
     },
     "execution_count": 103,
     "metadata": {},
     "output_type": "execute_result"
    }
   ],
   "source": [
    "shubhi=Human(169,85)\n",
    "\n",
    "shubhi.h\n",
    "shubhi.w\n",
    "\n",
    "shubhi.increaseh(5)\n",
    "shubhi.h"
   ]
  },
  {
   "cell_type": "code",
   "execution_count": 104,
   "metadata": {},
   "outputs": [
    {
     "name": "stdout",
     "output_type": "stream",
     "text": [
      "name 'test' is not defined\n"
     ]
    }
   ],
   "source": [
    "###Exception\n",
    "\n",
    "try:\n",
    "    print(test)\n",
    "    \n",
    "except Exception as e:\n",
    "    print(e)"
   ]
  },
  {
   "cell_type": "code",
   "execution_count": 107,
   "metadata": {},
   "outputs": [
    {
     "name": "stdout",
     "output_type": "stream",
     "text": [
      "division by zero\n"
     ]
    }
   ],
   "source": [
    "try:\n",
    "    print(10/0)\n",
    "    \n",
    "except Exception as e:\n",
    "    print(e)"
   ]
  },
  {
   "cell_type": "code",
   "execution_count": 108,
   "metadata": {},
   "outputs": [
    {
     "name": "stdout",
     "output_type": "stream",
     "text": [
      "resources\\test.txt\n"
     ]
    }
   ],
   "source": [
    "### reading and writing files\n",
    "\n",
    "import os \n",
    "dir_=\"resources\"\n",
    "filename = os.path.join(dir_,\"test.txt\")\n",
    "\n",
    "print(filename)"
   ]
  },
  {
   "cell_type": "code",
   "execution_count": 109,
   "metadata": {},
   "outputs": [
    {
     "ename": "NameError",
     "evalue": "name 'f' is not defined",
     "output_type": "error",
     "traceback": [
      "\u001b[1;31m---------------------------------------------------------------------------\u001b[0m",
      "\u001b[1;31mNameError\u001b[0m                                 Traceback (most recent call last)",
      "\u001b[1;32m<ipython-input-109-df9db0af0ae9>\u001b[0m in \u001b[0;36m<module>\u001b[1;34m\u001b[0m\n\u001b[0;32m      2\u001b[0m \u001b[1;31m#mode = w+ r+ a+\u001b[0m\u001b[1;33m\u001b[0m\u001b[1;33m\u001b[0m\u001b[1;33m\u001b[0m\u001b[0m\n\u001b[0;32m      3\u001b[0m \u001b[1;33m\u001b[0m\u001b[0m\n\u001b[1;32m----> 4\u001b[1;33m \u001b[0mf\u001b[0m\u001b[1;33m.\u001b[0m\u001b[0mopen\u001b[0m\u001b[1;33m(\u001b[0m\u001b[0mfilename\u001b[0m\u001b[1;33m,\u001b[0m \u001b[1;34m\"w+\"\u001b[0m\u001b[1;33m)\u001b[0m\u001b[1;33m\u001b[0m\u001b[1;33m\u001b[0m\u001b[0m\n\u001b[0m\u001b[0;32m      5\u001b[0m \u001b[0mf\u001b[0m\u001b[1;33m.\u001b[0m\u001b[0mwrite\u001b[0m\u001b[1;33m(\u001b[0m\u001b[1;34m\"hello\\n world \\n\"\u001b[0m\u001b[1;33m)\u001b[0m\u001b[1;33m\u001b[0m\u001b[1;33m\u001b[0m\u001b[0m\n\u001b[0;32m      6\u001b[0m \u001b[1;33m\u001b[0m\u001b[0m\n",
      "\u001b[1;31mNameError\u001b[0m: name 'f' is not defined"
     ]
    }
   ],
   "source": [
    "##write file\n",
    "#mode = w+ r+ a+\n",
    "\n",
    "f.open(filename, \"w+\")\n",
    "f.write(\"hello\\n world \\n\")\n",
    "\n",
    "#read\n",
    "f.open(filename, \"w+\")\n",
    "f.write(\"hello\\n world \\n\")\n",
    "print(f.tell())\n",
    "f.seek(0)\n",
    "print(f.tell()) #should be 0\n",
    "\n"
   ]
  },
  {
   "cell_type": "code",
   "execution_count": null,
   "metadata": {},
   "outputs": [],
   "source": [
    "#glob \n",
    "\n",
    "#i want to get the images *_black.png\n",
    "\n",
    "import glob\n",
    "#glob allows you to retrive stuffs based on regular expression\n",
    "\n",
    "for name in glob.glob('resources/letter_image/?_black.png') #gets every image ends with _black.png\n",
    "    print(name)\n",
    "for name in glob.glob('resources/letter_image/[A-C]_black.png') #gets the a-c letter name\n",
    "    print(name)    \n"
   ]
  },
  {
   "cell_type": "code",
   "execution_count": null,
   "metadata": {},
   "outputs": [],
   "source": []
  },
  {
   "cell_type": "code",
   "execution_count": null,
   "metadata": {},
   "outputs": [],
   "source": []
  },
  {
   "cell_type": "code",
   "execution_count": null,
   "metadata": {},
   "outputs": [],
   "source": []
  },
  {
   "cell_type": "code",
   "execution_count": null,
   "metadata": {},
   "outputs": [],
   "source": []
  }
 ],
 "metadata": {
  "kernelspec": {
   "display_name": "pythonDSAI",
   "language": "python",
   "name": "pythondsai"
  },
  "language_info": {
   "codemirror_mode": {
    "name": "ipython",
    "version": 3
   },
   "file_extension": ".py",
   "mimetype": "text/x-python",
   "name": "python",
   "nbconvert_exporter": "python",
   "pygments_lexer": "ipython3",
   "version": "3.8.5"
  }
 },
 "nbformat": 4,
 "nbformat_minor": 4
}
